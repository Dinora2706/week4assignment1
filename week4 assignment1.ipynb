{
 "cells": [
  {
   "cell_type": "code",
   "execution_count": 29,
   "id": "91d316c4",
   "metadata": {},
   "outputs": [
    {
     "name": "stdout",
     "output_type": "stream",
     "text": [
      "hello, admin. Nice to see you here again!\n"
     ]
    }
   ],
   "source": [
    "name = \"admin\" \n",
    "password = \"leadership\"\n",
    "if name == \"admin\" and password == \"leadership\":\n",
    "    print(\"hello, admin. Nice to see you here again!\")\n",
    "else: \n",
    "    print(\"you are not an admin\")"
   ]
  },
  {
   "cell_type": "code",
   "execution_count": 30,
   "id": "b1a2fd2e",
   "metadata": {},
   "outputs": [
    {
     "name": "stdout",
     "output_type": "stream",
     "text": [
      "jenn, hello!\n"
     ]
    }
   ],
   "source": [
    "name2 = \"Jennifer\"\n",
    "password = \"jenn22\"\n",
    "if name2 == \"Jennifer\" and password == \"jenn22\":\n",
    "    print(\"jenn, hello!\")\n",
    "else:\n",
    "    print(\"access blocked\")\n"
   ]
  },
  {
   "cell_type": "code",
   "execution_count": 31,
   "id": "84aa2aa5",
   "metadata": {},
   "outputs": [
    {
     "name": "stdout",
     "output_type": "stream",
     "text": [
      "Kevin, you have got access to this site\n"
     ]
    }
   ],
   "source": [
    "name3 = \"Kevin\"\n",
    "age = 19\n",
    "if name3 == \"Kevin\" and age == 19:\n",
    "    print(\"Kevin, you have got access to this site\")\n",
    "elif name3 == \"Kevin\" and age == \"18\":\n",
    "    print(\"you are young to access this site\")\n",
    "else:\n",
    "    print(\"ooops, something went wrong\")"
   ]
  },
  {
   "cell_type": "code",
   "execution_count": 32,
   "id": "efd3909d",
   "metadata": {},
   "outputs": [
    {
     "name": "stdout",
     "output_type": "stream",
     "text": [
      "You are totally another person\n"
     ]
    }
   ],
   "source": [
    "name4 = \"Tamanno\"\n",
    "surname = \"Khalikova\"\n",
    "if name4 == \"Dinora\" and surname == \"Abdullaeva\":\n",
    "    print(\"Dinora Abdullaeva, welcome again\")\n",
    "elif name4 == \"Dinora\" and surname == \"Kamilova\":\n",
    "    print(\"You are not Dinora Abdullaeva\")\n",
    "else:\n",
    "    print(\"You are totally another person\")"
   ]
  },
  {
   "cell_type": "code",
   "execution_count": 33,
   "id": "3712dafd",
   "metadata": {},
   "outputs": [
    {
     "name": "stdout",
     "output_type": "stream",
     "text": [
      "Recheck your name and write it again!\n"
     ]
    }
   ],
   "source": [
    "name5 = \"Victoriya\"\n",
    "nickname = \"Kim\"\n",
    "if name5 == \"Victoria\" and nickname == \"Kim\":\n",
    "    print(\"Access granted, Kim\")\n",
    "elif name4 == \"Kim\" and surname == \"Vika\":\n",
    "    print(\"You are not real Kim\")\n",
    "else:\n",
    "    print(\"Recheck your name and write it again!\")"
   ]
  },
  {
   "cell_type": "code",
   "execution_count": null,
   "id": "cf9eb1c5",
   "metadata": {},
   "outputs": [],
   "source": []
  }
 ],
 "metadata": {
  "kernelspec": {
   "display_name": "Python 3",
   "language": "python",
   "name": "python3"
  },
  "language_info": {
   "codemirror_mode": {
    "name": "ipython",
    "version": 3
   },
   "file_extension": ".py",
   "mimetype": "text/x-python",
   "name": "python",
   "nbconvert_exporter": "python",
   "pygments_lexer": "ipython3",
   "version": "3.8.8"
  }
 },
 "nbformat": 4,
 "nbformat_minor": 5
}
